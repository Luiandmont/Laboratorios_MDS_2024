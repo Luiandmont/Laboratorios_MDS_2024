{
 "cells": [
  {
   "cell_type": "markdown",
   "metadata": {
    "cell_id": "097fce6dce21405c911254a775ae3d26",
    "deepnote_cell_type": "markdown",
    "id": "J4_IcuuKZj9Y"
   },
   "source": [
    "<h1><center>Laboratorio 1: Git 👾</center></h1>\n",
    "\n",
    "<center><strong>MDS7202: Laboratorio de Programación Científica para Ciencia de Datos - Otoño 2024</strong></center>"
   ]
  },
  {
   "cell_type": "markdown",
   "metadata": {
    "cell_id": "9e8e8f2ae34e461da4f44508a96d2cf4",
    "deepnote_cell_type": "markdown",
    "id": "AEXIACc7aADv"
   },
   "source": [
    "### Cuerpo Docente:\n",
    "\n",
    "- Profesores: Ignacio Meza, Sebastián Tinoco\n",
    "- Auxiliar: Catherine Benavides\n",
    "- Ayudante: Nicolás Ojeda, Eduardo Moya"
   ]
  },
  {
   "cell_type": "markdown",
   "metadata": {
    "cell_id": "3e5b48c23e1b48f6a64de41899166179",
    "deepnote_cell_type": "markdown",
    "id": "0HgMMyoCaG8X"
   },
   "source": [
    "### Equipo: **SUPER IMPORTANTE - notebooks sin nombre no serán revisados**  \n",
    "\n",
    "- Nombre de alumno 1: Luis Montero M.  \n",
    "- Nombre de alumno 2:  \n",
    "\n"
   ]
  },
  {
   "cell_type": "markdown",
   "metadata": {
    "cell_id": "1db7c82b68614d19b112ba3b0d0abe4d",
    "deepnote_cell_type": "markdown",
    "id": "fz77X6glaK6y"
   },
   "source": [
    "### **Link de repositorio de GitHub:** `...`"
   ]
  },
  {
   "cell_type": "markdown",
   "metadata": {
    "cell_id": "bc3dac65089d4ae6a43c079547dee179",
    "deepnote_cell_type": "markdown",
    "id": "rRwqaxIZaNx3"
   },
   "source": [
    "## Reglas:\n",
    "\n",
    "- **Grupos de 2 personas**\n",
    "- Fecha de entrega: 7 días desde la publicación, 3 días de atraso con 1 punto de descuento c/u.\n",
    "- Instrucciones del lab el viernes a las 16:15 en formato online. Asistencia no es obligatoria.\n",
    "- <u>Prohibidas las copias</u>. Cualquier intento de copia será debidamente penalizado con el reglamento de la escuela.\n",
    "- Tienen que subir el laboratorio a u-cursos Y a su repositorio de github. Labs que no estén en u-cursos no serán revisados. Recuerden que el repositorio también tiene nota.\n",
    "- Cualquier duda fuera del horario de clases al foro. Mensajes al equipo docente serán respondidos por este medio.\n",
    "- Pueden usar cualquer material del curso que estimen conveniente."
   ]
  },
  {
   "cell_type": "markdown",
   "metadata": {
    "cell_id": "05e4729411a24153837fd13b7f198bd9",
    "deepnote_cell_type": "markdown",
    "id": "bmToL27JaSrf"
   },
   "source": [
    "## Objetivos del lab:\n",
    "\n",
    "\n",
    "- Conocer los elementos básicos que conformar `Git`\n",
    "- Clonar repositorios\n",
    "- Identificar ramas de un repositorio\n",
    "- Reconocer y solucionar problemas entre ramas\n",
    "- Subir cambios a un repositorio"
   ]
  },
  {
   "cell_type": "markdown",
   "metadata": {
    "cell_id": "5ebae9d601bd4d508349ab55297e9f82",
    "deepnote_cell_type": "markdown",
    "id": "bvnPCvrVbJLK"
   },
   "source": [
    "## Parte 1: Conocimiento Teórico (2.5 pts)\n",
    "\n",
    "<p align=\"center\">\n",
    "  <img src=\"https://cdn.thedesigninspiration.com/wp-content/uploads/sites/3/2019/04/macintosh-hdusersbrittanyloefflerdownloadsanig-1.gif\" width=\"350\">\n",
    "</p>"
   ]
  },
  {
   "cell_type": "markdown",
   "metadata": {
    "cell_id": "627494dba4f84520b3ee8b9cbf58ee79",
    "deepnote_cell_type": "markdown",
    "id": "JHl-24XnbNLF"
   },
   "source": [
    "Responda las siguientes preguntas (0.2 pts c/u):\n",
    "\n",
    "1. ¿Qué es `Git` y cómo se relaciona con el control de versiones?\n",
    "\n",
    "2. Nombre y explique 3 diferencias entre `Git` y `Github`.\n",
    "\n",
    "3. ¿Qué es un `hash` y cómo se representa en un `commit`? De un ejemplo.\n",
    "\n",
    "4. ¿Que elementos componen a la estructura de datos de `Git`?\n",
    "\n",
    "5. ¿Que comandos de `Git` sirven para crear un repositorio y hacer seguimiento a cambios en los archivos?"
   ]
  },
  {
   "cell_type": "markdown",
   "metadata": {
    "cell_id": "6d06c40f429044a298b27c666f51f46f",
    "deepnote_cell_type": "markdown",
    "id": "2tXCSkf0caG8"
   },
   "source": [
    "<code>Escriba sus respuestas acá:</code>  \n",
    "\n",
    "**R1.** GIT es un sistema de control de versiones distribuido (SCVD, siglas en castellano), que permite llevar el registro de los diferentes cambios realizados sobre un proyecto y los archivos que lo componen, permitiendo observar los cambios que se han realizado sobre él, la fecha en que ocurrieron y quienes los realizaron. Puede entenderse como una bitácora de registro del ciclo de vida de un proyecto, permitiendo observar sus cambios a lo largo de tiempo, y ver además quienes han intervenido en su desarrollo, pudiendo además obtener información que indique la naturaleza o motivos de los cambios ejecutados en el proyecto en distintos momento de su desarrollo.  \n",
    "\n",
    "\n",
    "**R2.**  \n",
    "a. Mientras que **git** es un SCVD, **GITHUB** es un servicio de repositorios que se alojan en la web;  \n",
    "b. Mientras **git** es una herramienta que funciona con línea de comandos, **GITHUB** entrega una interfaz gráfica al usuario;  \n",
    "c. Mientras de **git** permite la creación de repositorios locales (en el propio PC) para registrar cambios locales, **GITHUB** entrega un espacio que permite subir copias de repositorios locales (en el PC) a la web.  \n",
    "\n",
    "\n",
    "**R3.** Un HASH es un identificador compuesto por una serie única de 40 caracteres y que apunta a diferentes elementos u operaciones que realizadas en el proyecto, de modo que su ubicación resulta más eficiente.   \n",
    "\n",
    "**R4.** GIT posee una estructura de datos compuesta el por par llave-valor (key-value). En dicha estructura se almacenan las diferentes rutas y archivos del repositorio del proyecto. Las unidades básicas de almacenamiento son los BLOB; los commit y los tree son los otros tipo de unidades presentes en la estructura de datos.\n",
    "\n",
    "\n",
    "**R.5** Para crear un repositorio se debe utilizar el comando **git init proyecto_1** (por ejemplo).  \n",
    "Para hacer seguimiento a los diferentes cambios y estado en los archivos del repositorio del proyecto, el comando **git status**. Por su parte. el comando **git diff** que permite visualizar de forma más detallada las diferencias existentes entre los archivos del repositorio, informando por ejemplo lineas borradas, líneas agregadas, entre los aspectos más importantes. El comando **git log** permite acceder al registro de los cambios observándose los commit, su autor, fecha de realización y su hash de identificación.  \n",
    "\n",
    "\n"
   ]
  },
  {
   "cell_type": "markdown",
   "metadata": {
    "cell_id": "ec9855406e324cc98b59e33500faea84",
    "deepnote_cell_type": "markdown",
    "id": "MACccbP4gU43"
   },
   "source": [
    "Responda si las siguientes afirmaciones son Verdaderas (V) o Falsas (F). Justifique en **cualquiera** de los casos (0.2 pts c/u):\n",
    "\n",
    "\n",
    "6. `Git` siempre resuelve automáticamente los problemas de lineas al hacer merge entre diferentes ramas.\n",
    "7. Ejecutar `git pull` sobre un repositorio es equivalente a ejecutar `git clone`.\n",
    "8. `git status` genera los mismos resultados que `git log`.\n",
    "9. En `Git` es posible deshacer cambios y volver a versiones anteriores del código.\n",
    "10. El comando `git commit` se utiliza para enviar cambios al repositorio remoto."
   ]
  },
  {
   "cell_type": "markdown",
   "metadata": {
    "cell_id": "7e6a5a6e15b045cc9d104cf017825f1a",
    "deepnote_cell_type": "markdown",
    "id": "DFnmCToOgeM3"
   },
   "source": [
    "<code>Escriba sus respuestas acá:</code>  \n",
    "\n",
    "\n",
    "**R6.** Falso.  \n",
    "\n",
    "**R7.** Falso. Son comando que tienen funciones distintas; *pull* solo es posible si ya se ha clonado el repositorio de interés (mediante **git clone** que permite copiar un repositorio remoto en local). Si el repositorio remoto se ha modificado, dichos cambios no se observan ni registran en local (lo que es lógico, pues los cambios han ocurrido en el remoto); es posible acceder a dichas modificaciones remotas con **git pull**, comando que permite traer a local las modificaciones que han operado a nivel de repositorio remoto.  \n",
    "\n",
    "**R8.** Falso. Mientras *status* informa del estado o situación en que se encuentran las diferentes modificaciones realizadas sobre el proyecto (untracked, unmodified, modified,etc.), *log* informa sobre los commit realizados.  \n",
    "\n",
    "**R9.** Verdadero. Es posible deshacer los cambios mediante el comando **git checkout**, indicando la carpeta/archivo con su respectivo hash.     \n",
    "\n",
    "**R10.** Falso. **git push** envia los commit al repositorio remoto que se han ejecutado en el repositorio local. "
   ]
  },
  {
   "cell_type": "markdown",
   "metadata": {
    "cell_id": "54317cad024744ebaf4938df55ba3b95",
    "deepnote_cell_type": "markdown",
    "id": "LYq55sI2Rjf0"
   },
   "source": [
    "Por último, investigue y comente para qué sirven los siguientes comandos:\n",
    "\n",
    "11. `git stash` (0.25 puntos)   \n",
    "**R.** El comando **git stash** permite conservar temporalmente los cambios realizados en alguna rama del proyecto, sin la necesidad de hacer commit de forma definitiva. Este tipo de comando puede ser de utilidad cuando surge la necesidad de cambiar de rama del proyecto (por algún tipo de urgencia, por ejemplo), y dejar en *standby* los cambios realizado en la rama \"propia\", para luego volver a ella y seguir desarrollando la rama que se tiene a cargo dentro del proyecto. Los cambios realizados en una rama específica del proyecto se guardan en una \"pila de almacenamiento\", dejando limpio el directorio y así facilitar el cambio de rama dentro del proyecto.  \n",
    "\n",
    "\n",
    "12. `git reset`. ¿Cuál es la diferencia de este comando con `git revert`?. (0.25 puntos)  \n",
    "**R.** Este comando se utiliza para deshacer cambios efectuados en el repositorio. Se puede usar para deshacer commit, mover la rama actual de trabajo hacia otro commit o para deshacer cambios en la *staging area*, sin tocar los archivos del directorio de trabajo. Hay tres modos de reset: *soft* (deshace los commit, quedando los cambios en la *staging area*); *mixed*, que deshace los commit y los cambios añadidos al área *staging area* pero conserva los cambios en el directorio de trabajo; y por últimmo, el *hard* que borra por completo todos los commit, los cambios del *staging area* y del directorio de trabajo.  \n",
    "\n",
    "**git revert** se diferencia de reset en que el primero se utiliza para deshacer un commit en particular creando un nuevo commit que revierte los cambios provocados por el commit cuyos efectos se desean revertir. Las modificaciones del comando *revert* son menos radicales, en la medida que permite conservar el historial del repositorio, pues el nuevo commit que se utiliza para modificar otro, no resetea los cambios, además de quedar registrado en el historial de cambios."
   ]
  },
  {
   "cell_type": "markdown",
   "metadata": {
    "cell_id": "3e4d8b9974e4426ca38fd20f4b835a55",
    "deepnote_cell_type": "markdown",
    "id": "i7Em9JkbbRLo"
   },
   "source": [
    "## Parte 2: Creando una presentación personal (1.5 pts)\n",
    "\n",
    "<p align=\"center\">\n",
    "  <img src=\"https://media.tenor.com/arqlNu8gyJYAAAAC/cat-cat-jumping.gif\" width=\"150\">\n",
    "</p>\n",
    "\n"
   ]
  },
  {
   "cell_type": "markdown",
   "metadata": {
    "cell_id": "988648005dba4b9782c6625dfe6ae4ef",
    "deepnote_cell_type": "markdown",
    "id": "XWIHfyrlbYOJ"
   },
   "source": [
    "Para empezar a \"*soltar las manos*\" con `Git`, se les encomienda crear un repositorio con una presentación personal. El repositorio debe contener un breve resumen de quienes son ustedes, sus gustos, experiencias, y cualquier otro detalle interesante que ustedes consideren relevante.\n",
    "\n",
    "Para realizar esto, deben seguir los siguientes pasos:\n",
    "\n",
    "1. Contar con una cuenta de github (1 por persona)\n",
    "2. Crear un repositorio con su nombre de usuario\n",
    "3. Vincular el repositorio a su ambiente local ¿Qué comando(s) me permiten hacer esto?\n",
    "4. Crear un archivo `readme.md` con la información que ustedes deseen compartir.\n",
    "5. Realizar `push` con los cambios generados  \n",
    "\n",
    "**NOTA PARA LAS PREGUNTAS 4 y 5** *Como ya contaba con una cuenta **git**, cree en dicha el repositorio que tiene por función realizar la presentación personal. Trabajé directamente sobre el README.rm en **git** adaptando un template (el del profesor). Para poder aplicar las funciones esperadas y realizar el trabajo requerido, mediante consola (**git bash de windows**), cree un carpeta (**mkdir**), inicialice un repositorio (**git init**) y cloné (**git clone**) el repositorio de presentación personal. Luego, al archivo **README.md** original lo modifiqué, agregando un hobbie más. Revisé la situación de la modificación (**git status**), luego agregué la modificación realizada sobre el archivo (**git add**), para luego confirmar el cambio (**git commit**). Luego, me autentique (con **git config --global user.email** y, después, **git config --global user.name**). Confirmé el commit (**git commit**, con su respectivo comentario **-m\" \"**). Para indicar el lugar donde se suben los cambios, indiqué la rama donde deben enviarse (**git branch -M main**). Por ultimo, las modificaciones realizadas en el repositorio local al repositorio remoto se enviaron al repositorio remoto (**git push**)* \n",
    "\n",
    "\n",
    "A modo de ejemplo, pueden guiarse por esta *suculenta* [presentación](https://github.com/Mezosky)\n",
    "\n",
    "**Nota: Deben trabajar todos estos puntos desde su ambiente local**\n",
    "\n",
    "*Hint: Una buena opción es usar templates de presentación personal que encuentren en Google, como los que ofrece este [sitio](https://durgeshsamariya.github.io/awesome-github-profile-readme-templates/#/)*.\n",
    "\n",
    "**Entregable:**\n",
    "\n",
    "Enlace al repositorio con la presentación personal.\n",
    "\n",
    "IMPORTANTE: DEBEN ADJUNTAR UN ENLACE POR PERSONA"
   ]
  },
  {
   "cell_type": "markdown",
   "metadata": {
    "cell_id": "081b38d55dc54282bc8e3cd300ce9d3e",
    "deepnote_cell_type": "markdown",
    "id": "IIkWyl9tf0Sg"
   },
   "source": [
    "<code>Link Presentacion 1:</code>  https://github.com/Luiandmont/Luiandmont\n",
    "\n",
    "<code>Link Presentacion 2:</code>"
   ]
  },
  {
   "cell_type": "markdown",
   "metadata": {
    "cell_id": "0481a05d2d1a46928f6cfb7762720980",
    "deepnote_cell_type": "markdown",
    "id": "CAzXOwvDY-IG"
   },
   "source": [
    "## Parte 3: Trabajando sobre un repositorio externo (2 pts)\n",
    "\n",
    "<p align=\"center\">\n",
    "  <img src=\"https://media.tenor.com/YXL-0SK15j4AAAAC/dance-animals.gif\" width=\"300\">\n",
    "</p>\n",
    "\n",
    "Tras muchos dolores de cabeza, un grupo de entusiastas académicos decidieron aprender sobre `Git` y así trabajar colaborativamente de forma más ordenada y eficiente. Después de una infinidad de intentos y aprender de sus errores \"*a la mala*\", los académicos lograron levantar un [repositorio](https://github.com/MDS7202/lab1) en `Github`. Usando el repositorio de los académicos, responda las siguientes preguntas (**incluya también los comandos en `Git` ocupados**):\n"
   ]
  },
  {
   "cell_type": "markdown",
   "metadata": {
    "cell_id": "bcef73b2e8604579bde90ed6622abfe9",
    "deepnote_cell_type": "markdown",
    "id": "BFRnAw0rfguR"
   },
   "source": [
    "1. Clone el repositorio a su ambiente local. (0.25 pts)"
   ]
  },
  {
   "cell_type": "markdown",
   "metadata": {
    "cell_id": "5d126ac3819c44479af94d3895bc4c97",
    "deepnote_cell_type": "markdown",
    "id": "KXro32yBeilN"
   },
   "source": [
    "<code>Escriba sus respuestas acá:</code>  \n",
    "\n",
    "**1ro:** **mkdir** para crear una carpeta donde se guarda el repositorio clonado en local;  \n",
    "**2do:** **git init** para inicializar un repositorio en local;  \n",
    "**3ro:** **git clone** con la dirección de repositorio para clonarlo en local.  "
   ]
  },
  {
   "cell_type": "markdown",
   "metadata": {
    "cell_id": "e215e4e25b2440f09ac273ba63603986",
    "deepnote_cell_type": "markdown",
    "id": "8QB-GKmQRjf1"
   },
   "source": [
    "2. Descomprima los archivos subidos con la tarea en U-cursos en la carpeta recién clonada de github. Una vez realizado esto, cree un archivo `.gitignore` con el cual omita la carpeta `videos` y los archivos con la extensión `.txt` exceptuando el archivo `171.txt` de la carpeta `texts`. (0.25 pts)"
   ]
  },
  {
   "cell_type": "markdown",
   "metadata": {
    "cell_id": "186233b44d004e3bbd86262d010188b5",
    "deepnote_cell_type": "markdown",
    "id": "7VJ8IIYpRjf1"
   },
   "source": [
    "<code>Para esta pregunta usted deberá adjuntar el .gitignore creado en su repo.</code>  \n",
    "\n",
    "**# Ignorar archivos en carpeta:**  \n",
    "videos/  \n",
    "\n",
    "**# Ignorar todos que terminen en:**  \n",
    "*.txt  \n",
    "\n",
    "**# Excepción para archivos txt:**   \n",
    "!171.txt  "
   ]
  },
  {
   "cell_type": "markdown",
   "metadata": {
    "cell_id": "1de150590a41484a988b8e46616a2324",
    "deepnote_cell_type": "markdown",
    "id": "q2qmiDyjt2M_"
   },
   "source": [
    "3. Inspeccione brevemente el repositorio: ¿Cual es el objetivo del proyecto? Explique brevemente la estructura del proyecto, asi como también cada elemento que lo conforma. (0.25 pts)"
   ]
  },
  {
   "cell_type": "markdown",
   "metadata": {
    "cell_id": "082ca01c865e48e28352b280400c47b6",
    "deepnote_cell_type": "markdown",
    "id": "aBHpR8VTftkT"
   },
   "source": [
    "<code>Escriba sus respuestas acá:</code>  \n",
    "\n",
    "**R:** El repositorio consiste en un proyecto que consta de un pequeño programa que busca emular los sonidos de los animales. Contiene 2 archivos de extensión .py, uno principal (main.py) que contiene un listado con los nombres de los animales cuyo sonido se desea reproducir y otro (animales.py), que es el programa que informa el tipo de sonido que hace el animal especificado (perro, gato, y zorro. En el caso de este último, imprime la direccion del video de youtube de la canción del grupo Ylvis denominada *The fox (what does the fox says)*. Contiene un breve README.md donde se describe la finalidad del proyecto."
   ]
  },
  {
   "cell_type": "markdown",
   "metadata": {
    "cell_id": "3aab4a3ee0c246e1be955680ad653fb8",
    "deepnote_cell_type": "markdown",
    "id": "XFwqcpLZfylf"
   },
   "source": [
    "4. Identifique los últimos cambios al repositorio, reconociendo las principales ramas de trabajo. ¿Son informativos los `commit` realizados? (0.25 pts)\n",
    "*Hint: Se recomienda usar los argumentos `all`, `graph` y `decorate`*"
   ]
  },
  {
   "cell_type": "markdown",
   "metadata": {
    "cell_id": "0fab79a360ac4c6a9ca0ab884f85c7e1",
    "deepnote_cell_type": "markdown",
    "id": "cmWfXBkOhog0"
   },
   "source": [
    "<code>Escriba sus respuestas acá:</code>  \n",
    "\n",
    "**R.** Además de la rama principal (main), el proyecto cuenta con dos ramas más: ***new features*** y ***fix-ifs***. \n",
    "\n",
    "Los cambios realizados corresponden a Ignacio (Jueves 23 de marzo del 2023, 22:50 hrs) y a Pablo (Jueves 23 de marzo del 2023, 21:47 hrs). El commit realizado por Ignacio es más informativo que el de Pablo quién solo en su commit escribe \"fix ifs\". Ambos commmit podrían ser un poco más informativos, sin caer en los extenso, indicando que están generando nuevas ramas."
   ]
  },
  {
   "cell_type": "markdown",
   "metadata": {
    "cell_id": "d07b24d21f2343fb9a7e6a5db74e98c3",
    "deepnote_cell_type": "markdown",
    "id": "Vqbj9HdXrUnN"
   },
   "source": [
    "5. Uno de los académicos se da cuenta que la rama principal de trabajo no se ejecuta correctamente para todos los argumentos. Señale y explique el error en el código e identifique a la persona que lo cometió usando `git blame` (0.25 pts)\n",
    "\n",
    "*Hint: Le puede ser útil esta [documentación](https://www.atlassian.com/es/git/tutorials/inspecting-a-repository/git-blame).*"
   ]
  },
  {
   "cell_type": "markdown",
   "metadata": {
    "cell_id": "bc5b0f9c639643108f8e66687b721732",
    "deepnote_cell_type": "markdown",
    "id": "5ajhV2Iar3tV"
   },
   "source": [
    "<code>Escriba sus respuestas acá:</code>  \n",
    "\n",
    "**R.** Lo que revelan las salidas de los diferentes argumentos para *git log*, es que la rama fix-ifs y las modificaciones realizadas allí en el archivo main.py original no se pueden observar ni se ven reflejadas en el proyecto (que contiene las correcciones realizadas por Pablo Badilla a la función animales definida en dicho archivo, en que cambia la estructura condicional de la función, reemplazando *if* por *elif*). Pablo realiza las correciones sobre el archivo main.py que originalmente escribió Seba, pero el commit sólo queda registrado en su rama y no se envía al main del repositorio, razón por la cual no se registran no confirman las correcciones realizadas por él. El otro problema es que Pablo modifica el archivo main.py original después de que Ignacio modularizada el proyecto, sacando la función animales del archivo main.py y alojándola en un nuevo archivo (annimales.py). Esto hace que el archivo main.py tenga dos versiones modificadas, una en la rama main y otra en la rama fix-ifs.\n"
   ]
  },
  {
   "cell_type": "markdown",
   "metadata": {
    "cell_id": "f3f4e78e6d9145ebbb120c0a2e4aade6",
    "deepnote_cell_type": "markdown",
    "id": "m8J3uE7MhqTA"
   },
   "source": [
    "6. Busque los siguientes `commit`:\n",
    "\n",
    "- `c8b1a62d7299552b0654f930d695b33109214111`\n",
    "- `362fe21ee44f53ee944cee4ba484600308f83d78`\n",
    "- `25543a3baf77292baf849726784ca005473acab1`\n",
    "\n",
    "¿Qué diferencias existen entre cada uno? (0.25 pts)"
   ]
  },
  {
   "cell_type": "markdown",
   "metadata": {
    "cell_id": "696ed361ac0c41c8a214cfad9dcb39e6",
    "deepnote_cell_type": "markdown",
    "id": "sNHnZsgIitGh"
   },
   "source": [
    "<code>Escriba sus respuestas acá:</code>  \n",
    "\n",
    "**R.** El primer commit es realizado por Seba y corresponde a un código que agrega la función animales al archivo main.py  \n",
    "\n",
    "El segundo commit corresponde a Ignacio, quien genera una nueva rama (new_feature), en la que modalariza el proyecto: saca la función animales del archivo main.py y la escribe en otro archivo llamado animales.py  \n",
    "\n",
    "El ultimo commit corresponde a Pablo, quien toma el archivo main.py escrito originalmente por Seba, que hace modificaciones entre las lineas 6 y 9, cambiando el condicional *if* por *elif*.  \n",
    "\n",
    "La gran diferencia entre estos commit es que los dos primeros (el de Seba e Ignacio) están confirmados en la rama principal (main) del repositorio remoto: Seba hace commit en el main, mientras Ignacio lo hace desde la rama new_features. No es así con el commit de Pablo, que sólo se encuentra en la rama fix-ifs del repositorio, no teniendo confirmación en el main remoto (en la rama principal del repositorio remoto)\n"
   ]
  },
  {
   "cell_type": "markdown",
   "metadata": {
    "cell_id": "b4e18f8ce94c430f85915c4e2732d05b",
    "deepnote_cell_type": "markdown",
    "id": "WQIPbfNCgpxC"
   },
   "source": [
    "7. Realice una `merge` de la rama `fix-ifs` con la rama `main` y describa lo que ocurre. ¿Qué parte del código podría estar ocasionando esto? (0.25 pts)"
   ]
  },
  {
   "cell_type": "markdown",
   "metadata": {
    "cell_id": "36da6a0d4f4a427bbccac09e2ae965fd",
    "deepnote_cell_type": "markdown",
    "id": "ypH_6lL5ioZz"
   },
   "source": [
    "<code>Escriba sus respuestas acá:</code>  \n",
    "\n",
    "**R.** Al momento de tratar de hacer un merge que una fix-ifs con la rama principal, surge un conflicto de contenido en el archivo main.py. Esto debido a que al tratar de fusionar las ramas, hay dos versiones del archivo main.py: el original que fue modificado por Pablo en fix-ifs y la versión modularizada creada por Ignacio en new-feature. Dada esta situación, git no puede resolver automáticamente las modificaciones\n",
    "\n"
   ]
  },
  {
   "cell_type": "markdown",
   "metadata": {
    "cell_id": "09787ab449c543479e5cc54c2a3b6c19",
    "deepnote_cell_type": "markdown",
    "id": "GYfODCjeivkU"
   },
   "source": [
    "8. Cree una rama nueva y proponga una solución al problema anterior, adjuntando el código corregido y señalando las líneas modificadas. (0.25 pts)"
   ]
  },
  {
   "cell_type": "markdown",
   "metadata": {
    "cell_id": "6d963fba3f2d4c17a4b281c7d3f4fb8b",
    "deepnote_cell_type": "markdown",
    "id": "8heBxDU9iziT"
   },
   "source": [
    "<code>Escriba sus respuestas acá:</code>  \n",
    "\n",
    "**R.** En primera instancia se resolvió el problema a \"mano\": se borraron aquellas líneas de código en conflicto en el archivo main.py modificado por Pablo, para que fuera consistente con la estructura modular previamente establecida por Ignacio sobre el archivo main.py original escrito por Seba. Luego de ello, el archivo modificado, con git add se lo llevó al staging area, para luego confirmar la modificación (git commit). Con eso se resolvió el conflicto de merging entre la rama principal y fix-ifs.  \n",
    "\n",
    "La solución mediante una nueva rama pueder ser la siguiente:\n",
    "\n",
    "1ro. Crear una nueva rama y situarnos a trabajar en ella: **git checkout -b solucion**  \n",
    "2do. En el archivo main.py resolvemos a mano los problemas de conflicto en el código.  \n",
    "3ro. Llevar el archivo modificado al staging area con **git add main.py**  \n",
    "4to. Confirmamos los cambios con **git commit -m \"resuelto el problema\"**  \n",
    "5to. Nos cambiamos a la rama principal con **git checkout main**  \n",
    "6to. Hacemos merging con **git merge solucion**  \n",
    "\n",
    "\n"
   ]
  },
  {
   "cell_type": "markdown",
   "metadata": {
    "cell_id": "8a47d4bf8b3045d68e4f29bb449c87f1",
    "deepnote_cell_type": "markdown",
    "id": "Av8ebB9jkALO"
   },
   "source": [
    "## Fin"
   ]
  },
  {
   "cell_type": "markdown",
   "metadata": {
    "cell_id": "cec4b53942ed489f8f8b63d0e9d4f3e5",
    "deepnote_cell_type": "markdown",
    "id": "aQqZT9fSkBK8"
   },
   "source": [
    "Eso ha sido todo por ahora!! Esperamos que este laboratorio les haya gustado y servido para trabajar con `Git`. Recuerden los dias de plazo que tienen disponibles y que ante cualquier duda no duden en contactar al equipo docente.\n",
    "\n",
    "Nos vemos!!\n",
    "\n",
    "<p align=\"center\">\n",
    "  <img src=\"https://media.tenor.com/OYLdav9k9LkAAAAd/kitty-cat.gif\" width=\"350\">\n",
    "</p>\n"
   ]
  }
 ],
 "metadata": {
  "colab": {
   "provenance": []
  },
  "deepnote_execution_queue": [],
  "deepnote_notebook_id": "62cd20d52b9a4810ada15644630456dc",
  "kernelspec": {
   "display_name": "Python 3 (ipykernel)",
   "language": "python",
   "name": "python3"
  },
  "language_info": {
   "codemirror_mode": {
    "name": "ipython",
    "version": 3
   },
   "file_extension": ".py",
   "mimetype": "text/x-python",
   "name": "python",
   "nbconvert_exporter": "python",
   "pygments_lexer": "ipython3",
   "version": "3.11.5"
  }
 },
 "nbformat": 4,
 "nbformat_minor": 4
}
